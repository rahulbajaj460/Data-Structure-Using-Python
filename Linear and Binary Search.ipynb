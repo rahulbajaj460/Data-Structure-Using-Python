{
 "cells": [
  {
   "cell_type": "code",
   "execution_count": 1,
   "metadata": {},
   "outputs": [],
   "source": [
    "import time\n",
    "\n",
    "def time_cal(func):\n",
    "    def wrapper(*args, **kwargs):\n",
    "        start = time.time()\n",
    "        result = func(*args, **kwargs)\n",
    "        end = time.time()\n",
    "        print(func.__name__ + \" took \" + str((end-start)*1000) + \" mil seconds.\")\n",
    "        return result\n",
    "    return wrapper"
   ]
  },
  {
   "cell_type": "code",
   "execution_count": 2,
   "metadata": {},
   "outputs": [],
   "source": [
    "@time_cal\n",
    "def linear_search(numbers_list, number_to_find):\n",
    "    for index, element in enumerate(numbers_list):\n",
    "        if element == number_to_find:\n",
    "            return index\n",
    "    return -1"
   ]
  },
  {
   "cell_type": "code",
   "execution_count": 3,
   "metadata": {},
   "outputs": [],
   "source": [
    "@time_cal\n",
    "def binary_search(numbers_list, number_to_find):\n",
    "    left_index = 0\n",
    "    right_index = len(numbers_list) - 1\n",
    "    mid_index = 0\n",
    "\n",
    "    while left_index <= right_index:\n",
    "        mid_index = (left_index + right_index) // 2\n",
    "        mid_number = numbers_list[mid_index]\n",
    "\n",
    "        if mid_number == number_to_find:\n",
    "            return mid_index\n",
    "\n",
    "        if mid_number < number_to_find:\n",
    "            left_index = mid_index + 1\n",
    "        else:\n",
    "            right_index = mid_index - 1\n",
    "\n",
    "    return -1"
   ]
  },
  {
   "cell_type": "code",
   "execution_count": 4,
   "metadata": {},
   "outputs": [],
   "source": [
    "def binary_search_recursive(numbers_list, number_to_find, left_index, right_index):\n",
    "    if right_index < left_index:\n",
    "        return -1\n",
    "\n",
    "    mid_index = (left_index + right_index) // 2\n",
    "\n",
    "    mid_number = numbers_list[mid_index]\n",
    "\n",
    "    if mid_number == number_to_find:\n",
    "        return mid_index\n",
    "\n",
    "    if mid_number < number_to_find:\n",
    "        left_index = mid_index + 1\n",
    "    else:\n",
    "        right_index = mid_index - 1\n",
    "\n",
    "    return binary_search_recursive(numbers_list, number_to_find, left_index, right_index)"
   ]
  },
  {
   "cell_type": "code",
   "execution_count": 5,
   "metadata": {},
   "outputs": [
    {
     "name": "stdout",
     "output_type": "stream",
     "text": [
      "linear_search took 0.0 mil seconds.\n",
      "Number found at index 6 using linear search\n",
      "\n",
      "binary_search took 0.0 mil seconds.\n",
      "Number found at index 6 using binary search\n",
      "\n",
      "Number found at index 6 using binary recursive search\n"
     ]
    }
   ],
   "source": [
    "if __name__ == '__main__':\n",
    "    numbers_list = [12, 15, 17, 19, 21, 24, 45, 67]\n",
    "    number_to_find = 45\n",
    "    \n",
    "    index = linear_search(numbers_list, number_to_find)\n",
    "    print(f\"Number found at index {index} using linear search\\n\")\n",
    "    \n",
    "    index = binary_search(numbers_list, number_to_find)\n",
    "    print(f\"Number found at index {index} using binary search\\n\")\n",
    "\n",
    "    index = binary_search_recursive(numbers_list, number_to_find, 0, len(numbers_list)-1)\n",
    "    print(f\"Number found at index {index} using binary recursive search\")"
   ]
  },
  {
   "cell_type": "code",
   "execution_count": null,
   "metadata": {},
   "outputs": [],
   "source": []
  }
 ],
 "metadata": {
  "kernelspec": {
   "display_name": "Python 3",
   "language": "python",
   "name": "python3"
  },
  "language_info": {
   "codemirror_mode": {
    "name": "ipython",
    "version": 3
   },
   "file_extension": ".py",
   "mimetype": "text/x-python",
   "name": "python",
   "nbconvert_exporter": "python",
   "pygments_lexer": "ipython3",
   "version": "3.7.4"
  }
 },
 "nbformat": 4,
 "nbformat_minor": 2
}
