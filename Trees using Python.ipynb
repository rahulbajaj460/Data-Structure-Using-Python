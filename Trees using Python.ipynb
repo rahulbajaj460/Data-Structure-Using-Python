{
 "cells": [
  {
   "cell_type": "code",
   "execution_count": 1,
   "metadata": {},
   "outputs": [],
   "source": [
    "class TreeNode:\n",
    "    def __init__(self, data):\n",
    "        self.data = data\n",
    "        self.children = []\n",
    "        self.parent = None\n",
    "\n",
    "    def get_level(self):\n",
    "        level = 0\n",
    "        p = self.parent\n",
    "        while p:\n",
    "            level = level + 1\n",
    "            p = p.parent\n",
    "        return level\n",
    "\n",
    "    def print_tree(self):\n",
    "        spaces = ' ' * self.get_level() * 5\n",
    "        prefix = spaces + \"|__\" if self.parent else \"\"\n",
    "        print(prefix + self.data)\n",
    "        if self.children:\n",
    "            for child in self.children:\n",
    "                child.print_tree()\n",
    "\n",
    "    def add_child(self, child):\n",
    "        child.parent = self\n",
    "        self.children.append(child)\n"
   ]
  },
  {
   "cell_type": "code",
   "execution_count": 2,
   "metadata": {},
   "outputs": [],
   "source": [
    "def build_product_tree():\n",
    "    root = TreeNode(\"Electronics\")\n",
    "\n",
    "    laptop = TreeNode(\"Laptop\")\n",
    "    \n",
    "    dell = TreeNode(\"Dell\")\n",
    "    dell.add_child(TreeNode(\"Ideapad\"))\n",
    "    dell.add_child(TreeNode(\"Thinkpad\"))\n",
    "    \n",
    "    laptop.add_child(TreeNode(\"Mac\"))\n",
    "    laptop.add_child(dell)\n",
    "    laptop.add_child(TreeNode(\"HP\"))\n",
    "\n",
    "    cellphone = TreeNode(\"Cell Phone\")\n",
    "    cellphone.add_child(TreeNode(\"iPhone\"))\n",
    "    cellphone.add_child(TreeNode(\"Samsung\"))\n",
    "    cellphone.add_child(TreeNode(\"Oppo\"))\n",
    "\n",
    "    tv = TreeNode(\"TV\")\n",
    "    tv.add_child(TreeNode(\"Samsung\"))\n",
    "    tv.add_child(TreeNode(\"LG\"))\n",
    "\n",
    "    root.add_child(laptop)\n",
    "    root.add_child(cellphone)\n",
    "    root.add_child(tv)\n",
    "\n",
    "    root.print_tree()"
   ]
  },
  {
   "cell_type": "code",
   "execution_count": 3,
   "metadata": {},
   "outputs": [
    {
     "name": "stdout",
     "output_type": "stream",
     "text": [
      "Electronics\n",
      "     |__Laptop\n",
      "          |__Mac\n",
      "          |__Dell\n",
      "               |__Ideapad\n",
      "               |__Thinkpad\n",
      "          |__HP\n",
      "     |__Cell Phone\n",
      "          |__iPhone\n",
      "          |__Samsung\n",
      "          |__Oppo\n",
      "     |__TV\n",
      "          |__Samsung\n",
      "          |__LG\n"
     ]
    }
   ],
   "source": [
    "if __name__ == '__main__':\n",
    "    build_product_tree()"
   ]
  },
  {
   "cell_type": "code",
   "execution_count": null,
   "metadata": {},
   "outputs": [],
   "source": []
  }
 ],
 "metadata": {
  "kernelspec": {
   "display_name": "Python 3",
   "language": "python",
   "name": "python3"
  },
  "language_info": {
   "codemirror_mode": {
    "name": "ipython",
    "version": 3
   },
   "file_extension": ".py",
   "mimetype": "text/x-python",
   "name": "python",
   "nbconvert_exporter": "python",
   "pygments_lexer": "ipython3",
   "version": "3.7.4"
  }
 },
 "nbformat": 4,
 "nbformat_minor": 2
}
