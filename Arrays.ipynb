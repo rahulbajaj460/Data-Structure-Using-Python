{
 "cells": [
  {
   "cell_type": "markdown",
   "metadata": {},
   "source": [
    "## Arrays in python are usually implemented as lists.\n",
    "## Arrays in python are the dynamic arrays found in C++ and Java. They are not like the static arrays which allocate memory at compile time."
   ]
  },
  {
   "cell_type": "markdown",
   "metadata": {},
   "source": [
    "### Question 1.\n",
    "Let us say your expense for every month are listed below,\n",
    "1.   January - 2200\n",
    "2.   February - 2350\n",
    "3.   March - 2600\n",
    "4.   April - 2130\n",
    "5.   May - 2190\n",
    "\n",
    "Create a list to store these monthly expenses and using that find out,\n",
    "1. In Feb, how many dollars you spent extra compare to January?\n",
    "2. Find out your total expense in first quarter (first three months) of the year.\n",
    "3. Find out if you spent exactly 2000 dollars in any month\n",
    "4. June month just finished and your expense is 1980 dollar. Add this item to our monthly expense list\n",
    "5. You returned an item that you bought in a month of April and got a refund of 200$. Make a correction to your monthly expense list based on this?"
   ]
  },
  {
   "cell_type": "markdown",
   "metadata": {},
   "source": [
    "## Solution 1."
   ]
  },
  {
   "cell_type": "code",
   "execution_count": 1,
   "metadata": {},
   "outputs": [
    {
     "name": "stdout",
     "output_type": "stream",
     "text": [
      "In Feb, 150 $ were spent extra when compare to January.\n",
      "Total expense in the first quarter is 7150 $.\n",
      "Is 2000 in expense present? False\n",
      "Expenses till June is [2200, 2350, 2600, 2130, 2190, 1980]\n",
      "Updated expenses is [2200, 2350, 2600, 1930, 2190, 1980]\n"
     ]
    }
   ],
   "source": [
    "expense = [2200, 2350, 2600, 2130, 2190]\n",
    "\n",
    "## 1.\n",
    "feb_extra = expense[1] - expense[0]\n",
    "print(\"In Feb,\",feb_extra,\"$ were spent extra when compare to January.\")\n",
    "\n",
    "## 2.\n",
    "quarter_total = expense[0] + expense[1] + expense[2]\n",
    "print(\"Total expense in the first quarter is\",quarter_total,\"$.\")\n",
    "\n",
    "## 3.\n",
    "print(\"Is 2000 in expense present?\",2000 in expense)\n",
    "\n",
    "## 4. \n",
    "expense.append(1980)\n",
    "print(\"Expenses till June is\",expense)\n",
    "\n",
    "## 5.\n",
    "expense[3] = expense[3]-200\n",
    "print(\"Updated expenses is\",expense)"
   ]
  },
  {
   "cell_type": "code",
   "execution_count": null,
   "metadata": {},
   "outputs": [],
   "source": []
  },
  {
   "cell_type": "markdown",
   "metadata": {},
   "source": [
    "### Question 2.\n",
    "\n",
    "You have a list of your favourite marvel super heros.\n",
    "##### heros= ['spider man','thor','hulk','iron man','captain america']\n",
    "Using this find out,\n",
    "1. Length of the list\n",
    "2. Add 'black panther' at the end of this list\n",
    "3. You realize that you need to add 'black panther' after 'hulk', so remove it from the list first and then add it after 'hulk'\n",
    "4. Now you don't like thor and hulk because they get angry easily :)\n",
    "   So you want to remove thor and hulk from list and replace them with doctor strange (because he is cool).\n",
    "   Do that with one line of code.\n",
    "5. Sort the heros list in alphabetical order.\n"
   ]
  },
  {
   "cell_type": "markdown",
   "metadata": {},
   "source": [
    "### Solution 2"
   ]
  },
  {
   "cell_type": "code",
   "execution_count": 2,
   "metadata": {},
   "outputs": [
    {
     "name": "stdout",
     "output_type": "stream",
     "text": [
      "The length of the list is 5\n",
      "Updated list is ['spider man', 'thor', 'hulk', 'iron man', 'captain america', 'black panther']\n",
      "Updated list is ['spider man', 'thor', 'hulk', 'black panther', 'iron man', 'captain america']\n",
      "Updated list is ['spider man', 'doctor strange', 'black panther', 'iron man', 'captain america']\n",
      "The sorted list is ['black panther', 'captain america', 'doctor strange', 'iron man', 'spider man']\n"
     ]
    }
   ],
   "source": [
    "heros= ['spider man','thor','hulk','iron man','captain america']\n",
    "\n",
    "## 1.\n",
    "print('The length of the list is',len(heros))\n",
    "\n",
    "## 2.\n",
    "heros.append('black panther')\n",
    "print(\"Updated list is\",heros)\n",
    "\n",
    "## 3. \n",
    "heros.remove('black panther')\n",
    "heros.insert(3,'black panther')\n",
    "print(\"Updated list is\",heros)\n",
    "\n",
    "## 4.\n",
    "heros.remove('thor')\n",
    "heros.remove('hulk')\n",
    "heros.insert(1, 'doctor strange')\n",
    "print(\"Updated list is\",heros)\n",
    "## or \n",
    "## heros[1:3] = ['doctor strange']\n",
    "\n",
    "## 5.\n",
    "heros.sort()\n",
    "print(\"The sorted list is\",heros)"
   ]
  },
  {
   "cell_type": "code",
   "execution_count": null,
   "metadata": {},
   "outputs": [],
   "source": []
  },
  {
   "cell_type": "markdown",
   "metadata": {},
   "source": [
    "### Question 3\n",
    "\n",
    "Create a list of all odd numbers between 1 and a max number. Max number is something you need to take from a user using input() function"
   ]
  },
  {
   "cell_type": "markdown",
   "metadata": {},
   "source": [
    "### Solution 3"
   ]
  },
  {
   "cell_type": "code",
   "execution_count": 3,
   "metadata": {},
   "outputs": [
    {
     "name": "stdout",
     "output_type": "stream",
     "text": [
      "Enter the Max number : 10\n",
      "Odd numbers in the range of 1 to 10 is [1, 3, 5, 7, 9]\n"
     ]
    }
   ],
   "source": [
    "var = int(input(\"Enter the Max number : \"))\n",
    "list1 = []\n",
    "for i in range(var):\n",
    "    if(i%2!=0):\n",
    "        list1.append(i)\n",
    "        \n",
    "print('Odd numbers in the range of 1 to',var,'is',list1)"
   ]
  },
  {
   "cell_type": "code",
   "execution_count": null,
   "metadata": {},
   "outputs": [],
   "source": []
  }
 ],
 "metadata": {
  "kernelspec": {
   "display_name": "Python 3",
   "language": "python",
   "name": "python3"
  },
  "language_info": {
   "codemirror_mode": {
    "name": "ipython",
    "version": 3
   },
   "file_extension": ".py",
   "mimetype": "text/x-python",
   "name": "python",
   "nbconvert_exporter": "python",
   "pygments_lexer": "ipython3",
   "version": "3.7.4"
  }
 },
 "nbformat": 4,
 "nbformat_minor": 2
}
